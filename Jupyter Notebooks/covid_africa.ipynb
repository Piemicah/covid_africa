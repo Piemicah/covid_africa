{
 "cells": [
  {
   "cell_type": "markdown",
   "id": "fe496b8c-7120-4653-b7ce-849a2351e0f1",
   "metadata": {},
   "source": [
    "# COVID-19 ANALYSIS IN AFRICA"
   ]
  },
  {
   "cell_type": "markdown",
   "id": "fb9a1bdc-b194-405b-af70-4c9747ef88b0",
   "metadata": {},
   "source": [
    "### import the necessary libraries"
   ]
  },
  {
   "cell_type": "code",
   "execution_count": 25,
   "id": "c1bb1be6-d31d-4460-bda4-35b0c2ebe44e",
   "metadata": {
    "tags": []
   },
   "outputs": [],
   "source": [
    "from dash import Dash, html, dcc, Input,Output, dash_table, callback\n",
    "import pandas as pd\n",
    "import plotly.express as px"
   ]
  },
  {
   "cell_type": "markdown",
   "id": "f736f122-06b3-4aa3-bd05-cac415e29017",
   "metadata": {},
   "source": [
    "### Load the dataset"
   ]
  },
  {
   "cell_type": "code",
   "execution_count": 26,
   "id": "4f86280e-fe8f-4ee4-9e98-26349ef4b39b",
   "metadata": {
    "tags": []
   },
   "outputs": [
    {
     "data": {
      "text/html": [
       "<div>\n",
       "<style scoped>\n",
       "    .dataframe tbody tr th:only-of-type {\n",
       "        vertical-align: middle;\n",
       "    }\n",
       "\n",
       "    .dataframe tbody tr th {\n",
       "        vertical-align: top;\n",
       "    }\n",
       "\n",
       "    .dataframe thead th {\n",
       "        text-align: right;\n",
       "    }\n",
       "</style>\n",
       "<table border=\"1\" class=\"dataframe\">\n",
       "  <thead>\n",
       "    <tr style=\"text-align: right;\">\n",
       "      <th></th>\n",
       "      <th>Country</th>\n",
       "      <th>Country Code</th>\n",
       "      <th>Total Cases</th>\n",
       "      <th>Total Deaths</th>\n",
       "      <th>Total Recovered</th>\n",
       "      <th>Active Cases</th>\n",
       "      <th>Total Cases/1 mil population</th>\n",
       "      <th>Deaths/1 mil population</th>\n",
       "      <th>Total Tests</th>\n",
       "      <th>Tests/1 mil population</th>\n",
       "      <th>Population</th>\n",
       "    </tr>\n",
       "  </thead>\n",
       "  <tbody>\n",
       "    <tr>\n",
       "      <th>0</th>\n",
       "      <td>Algeria</td>\n",
       "      <td>DZA</td>\n",
       "      <td>206995</td>\n",
       "      <td>5939</td>\n",
       "      <td>142049.0</td>\n",
       "      <td>59007.0</td>\n",
       "      <td>4609</td>\n",
       "      <td>132</td>\n",
       "      <td>230861.0</td>\n",
       "      <td>5140.0</td>\n",
       "      <td>44913918</td>\n",
       "    </tr>\n",
       "    <tr>\n",
       "      <th>1</th>\n",
       "      <td>Angola</td>\n",
       "      <td>AGO</td>\n",
       "      <td>64612</td>\n",
       "      <td>1719</td>\n",
       "      <td>57493.0</td>\n",
       "      <td>5400.0</td>\n",
       "      <td>1887</td>\n",
       "      <td>50</td>\n",
       "      <td>1092363.0</td>\n",
       "      <td>31907.0</td>\n",
       "      <td>34236049</td>\n",
       "    </tr>\n",
       "    <tr>\n",
       "      <th>2</th>\n",
       "      <td>Benin</td>\n",
       "      <td>BEN</td>\n",
       "      <td>24804</td>\n",
       "      <td>161</td>\n",
       "      <td>24346.0</td>\n",
       "      <td>297.0</td>\n",
       "      <td>1977</td>\n",
       "      <td>13</td>\n",
       "      <td>604310.0</td>\n",
       "      <td>48156.0</td>\n",
       "      <td>12548939</td>\n",
       "    </tr>\n",
       "    <tr>\n",
       "      <th>3</th>\n",
       "      <td>Botswana</td>\n",
       "      <td>BWA</td>\n",
       "      <td>192935</td>\n",
       "      <td>2407</td>\n",
       "      <td>188000.0</td>\n",
       "      <td>2528.0</td>\n",
       "      <td>79879</td>\n",
       "      <td>997</td>\n",
       "      <td>1828618.0</td>\n",
       "      <td>757085.0</td>\n",
       "      <td>2415342</td>\n",
       "    </tr>\n",
       "    <tr>\n",
       "      <th>4</th>\n",
       "      <td>Burkina Faso</td>\n",
       "      <td>BFA</td>\n",
       "      <td>15103</td>\n",
       "      <td>221</td>\n",
       "      <td>14661.0</td>\n",
       "      <td>221.0</td>\n",
       "      <td>697</td>\n",
       "      <td>10</td>\n",
       "      <td>226312.0</td>\n",
       "      <td>10443.0</td>\n",
       "      <td>21671636</td>\n",
       "    </tr>\n",
       "  </tbody>\n",
       "</table>\n",
       "</div>"
      ],
      "text/plain": [
       "        Country Country Code  Total Cases  Total Deaths  Total Recovered  \\\n",
       "0       Algeria          DZA       206995          5939         142049.0   \n",
       "1        Angola          AGO        64612          1719          57493.0   \n",
       "2         Benin          BEN        24804           161          24346.0   \n",
       "3      Botswana          BWA       192935          2407         188000.0   \n",
       "4  Burkina Faso          BFA        15103           221          14661.0   \n",
       "\n",
       "   Active Cases  Total Cases/1 mil population  Deaths/1 mil population   \\\n",
       "0       59007.0                          4609                       132   \n",
       "1        5400.0                          1887                        50   \n",
       "2         297.0                          1977                        13   \n",
       "3        2528.0                         79879                       997   \n",
       "4         221.0                           697                        10   \n",
       "\n",
       "   Total Tests  Tests/1 mil population  Population  \n",
       "0     230861.0                  5140.0    44913918  \n",
       "1    1092363.0                 31907.0    34236049  \n",
       "2     604310.0                 48156.0    12548939  \n",
       "3    1828618.0                757085.0     2415342  \n",
       "4     226312.0                 10443.0    21671636  "
      ]
     },
     "execution_count": 26,
     "metadata": {},
     "output_type": "execute_result"
    }
   ],
   "source": [
    "covid = pd.read_csv('covid_africa.csv')\n",
    "covid.head()"
   ]
  },
  {
   "cell_type": "code",
   "execution_count": 27,
   "id": "f130138e-706c-4270-8ec0-b5b8336afa3c",
   "metadata": {
    "tags": []
   },
   "outputs": [
    {
     "data": {
      "text/plain": [
       "(54, 11)"
      ]
     },
     "execution_count": 27,
     "metadata": {},
     "output_type": "execute_result"
    }
   ],
   "source": [
    "covid.shape"
   ]
  },
  {
   "cell_type": "markdown",
   "id": "5999f62c-e2f5-49b9-b291-39a9dfea2e0d",
   "metadata": {},
   "source": [
    "### Check for columns with null values"
   ]
  },
  {
   "cell_type": "code",
   "execution_count": 28,
   "id": "c4fcdd5c-94bf-4a9a-97ac-755360c49cb7",
   "metadata": {
    "tags": []
   },
   "outputs": [
    {
     "data": {
      "text/plain": [
       "Country                         0\n",
       "Country Code                    0\n",
       "Total Cases                     0\n",
       "Total Deaths                    0\n",
       "Total Recovered                 1\n",
       "Active Cases                    1\n",
       "Total Cases/1 mil population    0\n",
       "Deaths/1 mil population         0\n",
       "Total Tests                     2\n",
       "Tests/1 mil population          2\n",
       "Population                      0\n",
       "dtype: int64"
      ]
     },
     "execution_count": 28,
     "metadata": {},
     "output_type": "execute_result"
    }
   ],
   "source": [
    "covid.isnull().sum()"
   ]
  },
  {
   "cell_type": "code",
   "execution_count": 29,
   "id": "eff2b157-fd74-441a-93e0-0bd6d6f970ca",
   "metadata": {
    "tags": []
   },
   "outputs": [
    {
     "data": {
      "text/html": [
       "<div>\n",
       "<style scoped>\n",
       "    .dataframe tbody tr th:only-of-type {\n",
       "        vertical-align: middle;\n",
       "    }\n",
       "\n",
       "    .dataframe tbody tr th {\n",
       "        vertical-align: top;\n",
       "    }\n",
       "\n",
       "    .dataframe thead th {\n",
       "        text-align: right;\n",
       "    }\n",
       "</style>\n",
       "<table border=\"1\" class=\"dataframe\">\n",
       "  <thead>\n",
       "    <tr style=\"text-align: right;\">\n",
       "      <th></th>\n",
       "      <th>Country</th>\n",
       "      <th>Country Code</th>\n",
       "      <th>Total Cases</th>\n",
       "      <th>Total Deaths</th>\n",
       "      <th>Total Recovered</th>\n",
       "      <th>Active Cases</th>\n",
       "      <th>Total Cases/1 mil population</th>\n",
       "      <th>Deaths/1 mil population</th>\n",
       "      <th>Total Tests</th>\n",
       "      <th>Tests/1 mil population</th>\n",
       "      <th>Population</th>\n",
       "    </tr>\n",
       "  </thead>\n",
       "  <tbody>\n",
       "    <tr>\n",
       "      <th>10</th>\n",
       "      <td>Comoros</td>\n",
       "      <td>COM</td>\n",
       "      <td>4307</td>\n",
       "      <td>147</td>\n",
       "      <td>4093.0</td>\n",
       "      <td>67.0</td>\n",
       "      <td>4815</td>\n",
       "      <td>164</td>\n",
       "      <td>NaN</td>\n",
       "      <td>NaN</td>\n",
       "      <td>894454</td>\n",
       "    </tr>\n",
       "    <tr>\n",
       "      <th>48</th>\n",
       "      <td>Tanzania</td>\n",
       "      <td>TZA</td>\n",
       "      <td>26196</td>\n",
       "      <td>725</td>\n",
       "      <td>NaN</td>\n",
       "      <td>NaN</td>\n",
       "      <td>422</td>\n",
       "      <td>12</td>\n",
       "      <td>NaN</td>\n",
       "      <td>NaN</td>\n",
       "      <td>62014670</td>\n",
       "    </tr>\n",
       "  </tbody>\n",
       "</table>\n",
       "</div>"
      ],
      "text/plain": [
       "     Country Country Code  Total Cases  Total Deaths  Total Recovered  \\\n",
       "10   Comoros          COM         4307           147           4093.0   \n",
       "48  Tanzania          TZA        26196           725              NaN   \n",
       "\n",
       "    Active Cases  Total Cases/1 mil population  Deaths/1 mil population   \\\n",
       "10          67.0                          4815                       164   \n",
       "48           NaN                           422                        12   \n",
       "\n",
       "    Total Tests  Tests/1 mil population  Population  \n",
       "10          NaN                     NaN      894454  \n",
       "48          NaN                     NaN    62014670  "
      ]
     },
     "execution_count": 29,
     "metadata": {},
     "output_type": "execute_result"
    }
   ],
   "source": [
    "covid[covid.isnull().any(axis=1)]"
   ]
  },
  {
   "cell_type": "markdown",
   "id": "cab01919-eaeb-4297-9d1e-20f173b78970",
   "metadata": {},
   "source": [
    "###  At the time of data collation, there were no records for missing values in 'Comoros' and 'Tanzania'. Therefor the missing values can be replaced by zero."
   ]
  },
  {
   "cell_type": "code",
   "execution_count": 33,
   "id": "b5bb11cd-ce94-44fc-b352-c0fb805428ba",
   "metadata": {
    "tags": []
   },
   "outputs": [],
   "source": [
    "covid=covid.fillna(0)"
   ]
  },
  {
   "cell_type": "code",
   "execution_count": 35,
   "id": "7274e05d-652b-4c88-b3a1-9ddf21ee40d5",
   "metadata": {
    "tags": []
   },
   "outputs": [
    {
     "ename": "ValueError",
     "evalue": "Mime type rendering requires nbformat>=4.2.0 but it is not installed",
     "output_type": "error",
     "traceback": [
      "\u001b[0;31m---------------------------------------------------------------------------\u001b[0m",
      "\u001b[0;31mValueError\u001b[0m                                Traceback (most recent call last)",
      "\u001b[1;32m/workspaces/covid_africa/Jupyter Notebooks/covid_africa.ipynb Cell 12\u001b[0m line \u001b[0;36m2\n\u001b[1;32m      <a href='vscode-notebook-cell://codespaces%2Bfuzzy-waffle-746wg9qj7p6hpq55/workspaces/covid_africa/Jupyter%20Notebooks/covid_africa.ipynb#X14sdnNjb2RlLXJlbW90ZQ%3D%3D?line=0'>1</a>\u001b[0m fig2 \u001b[39m=\u001b[39m px\u001b[39m.\u001b[39mbar(covid\u001b[39m.\u001b[39msort_values(\u001b[39m'\u001b[39m\u001b[39mTotal Cases\u001b[39m\u001b[39m'\u001b[39m),x\u001b[39m=\u001b[39m\u001b[39m'\u001b[39m\u001b[39mTotal Cases\u001b[39m\u001b[39m'\u001b[39m,y\u001b[39m=\u001b[39m\u001b[39m'\u001b[39m\u001b[39mCountry\u001b[39m\u001b[39m'\u001b[39m,orientation\u001b[39m=\u001b[39m\u001b[39m'\u001b[39m\u001b[39mh\u001b[39m\u001b[39m'\u001b[39m,height\u001b[39m=\u001b[39m\u001b[39m1000\u001b[39m,color\u001b[39m=\u001b[39m\u001b[39m'\u001b[39m\u001b[39mPopulation\u001b[39m\u001b[39m'\u001b[39m,title\u001b[39m=\u001b[39m\u001b[39m'\u001b[39m\u001b[39mTOTAL CASES\u001b[39m\u001b[39m'\u001b[39m)\n\u001b[0;32m----> <a href='vscode-notebook-cell://codespaces%2Bfuzzy-waffle-746wg9qj7p6hpq55/workspaces/covid_africa/Jupyter%20Notebooks/covid_africa.ipynb#X14sdnNjb2RlLXJlbW90ZQ%3D%3D?line=1'>2</a>\u001b[0m fig2\u001b[39m.\u001b[39;49mshow()\n",
      "File \u001b[0;32m/workspaces/covid_africa/.venv/lib/python3.12/site-packages/plotly/basedatatypes.py:3410\u001b[0m, in \u001b[0;36mBaseFigure.show\u001b[0;34m(self, *args, **kwargs)\u001b[0m\n\u001b[1;32m   3377\u001b[0m \u001b[39m\u001b[39m\u001b[39m\"\"\"\u001b[39;00m\n\u001b[1;32m   3378\u001b[0m \u001b[39mShow a figure using either the default renderer(s) or the renderer(s)\u001b[39;00m\n\u001b[1;32m   3379\u001b[0m \u001b[39mspecified by the renderer argument\u001b[39;00m\n\u001b[0;32m   (...)\u001b[0m\n\u001b[1;32m   3406\u001b[0m \u001b[39mNone\u001b[39;00m\n\u001b[1;32m   3407\u001b[0m \u001b[39m\"\"\"\u001b[39;00m\n\u001b[1;32m   3408\u001b[0m \u001b[39mimport\u001b[39;00m \u001b[39mplotly\u001b[39;00m\u001b[39m.\u001b[39;00m\u001b[39mio\u001b[39;00m \u001b[39mas\u001b[39;00m \u001b[39mpio\u001b[39;00m\n\u001b[0;32m-> 3410\u001b[0m \u001b[39mreturn\u001b[39;00m pio\u001b[39m.\u001b[39;49mshow(\u001b[39mself\u001b[39;49m, \u001b[39m*\u001b[39;49margs, \u001b[39m*\u001b[39;49m\u001b[39m*\u001b[39;49mkwargs)\n",
      "File \u001b[0;32m/workspaces/covid_africa/.venv/lib/python3.12/site-packages/plotly/io/_renderers.py:394\u001b[0m, in \u001b[0;36mshow\u001b[0;34m(fig, renderer, validate, **kwargs)\u001b[0m\n\u001b[1;32m    389\u001b[0m         \u001b[39mraise\u001b[39;00m \u001b[39mValueError\u001b[39;00m(\n\u001b[1;32m    390\u001b[0m             \u001b[39m\"\u001b[39m\u001b[39mMime type rendering requires ipython but it is not installed\u001b[39m\u001b[39m\"\u001b[39m\n\u001b[1;32m    391\u001b[0m         )\n\u001b[1;32m    393\u001b[0m     \u001b[39mif\u001b[39;00m \u001b[39mnot\u001b[39;00m nbformat \u001b[39mor\u001b[39;00m Version(nbformat\u001b[39m.\u001b[39m__version__) \u001b[39m<\u001b[39m Version(\u001b[39m\"\u001b[39m\u001b[39m4.2.0\u001b[39m\u001b[39m\"\u001b[39m):\n\u001b[0;32m--> 394\u001b[0m         \u001b[39mraise\u001b[39;00m \u001b[39mValueError\u001b[39;00m(\n\u001b[1;32m    395\u001b[0m             \u001b[39m\"\u001b[39m\u001b[39mMime type rendering requires nbformat>=4.2.0 but it is not installed\u001b[39m\u001b[39m\"\u001b[39m\n\u001b[1;32m    396\u001b[0m         )\n\u001b[1;32m    398\u001b[0m     ipython_display\u001b[39m.\u001b[39mdisplay(bundle, raw\u001b[39m=\u001b[39m\u001b[39mTrue\u001b[39;00m)\n\u001b[1;32m    400\u001b[0m \u001b[39m# external renderers\u001b[39;00m\n",
      "\u001b[0;31mValueError\u001b[0m: Mime type rendering requires nbformat>=4.2.0 but it is not installed"
     ]
    }
   ],
   "source": [
    "fig2 = px.bar(covid.sort_values('Total Cases'),x='Total Cases',y='Country',orientation='h',height=1000,color='Population',title='TOTAL CASES')\n",
    "fig2.show()"
   ]
  },
  {
   "cell_type": "code",
   "execution_count": 46,
   "id": "c7e0750c-1e0e-46c9-a7ed-18589cc2dc90",
   "metadata": {
    "tags": []
   },
   "outputs": [],
   "source": []
  },
  {
   "cell_type": "code",
   "execution_count": 32,
   "id": "2602e061-7420-49e8-931b-1efebaab128c",
   "metadata": {
    "tags": []
   },
   "outputs": [
    {
     "ename": "PackageNotFoundError",
     "evalue": "No package metadata was found for werkzeug",
     "output_type": "error",
     "traceback": [
      "\u001b[0;31m---------------------------------------------------------------------------\u001b[0m",
      "\u001b[0;31mStopIteration\u001b[0m                             Traceback (most recent call last)",
      "File \u001b[0;32m/usr/local/lib/python3.12/importlib/metadata/__init__.py:397\u001b[0m, in \u001b[0;36mDistribution.from_name\u001b[0;34m(cls, name)\u001b[0m\n\u001b[1;32m    396\u001b[0m \u001b[39mtry\u001b[39;00m:\n\u001b[0;32m--> 397\u001b[0m     \u001b[39mreturn\u001b[39;00m \u001b[39mnext\u001b[39;49m(\u001b[39mcls\u001b[39;49m\u001b[39m.\u001b[39;49mdiscover(name\u001b[39m=\u001b[39;49mname))\n\u001b[1;32m    398\u001b[0m \u001b[39mexcept\u001b[39;00m \u001b[39mStopIteration\u001b[39;00m:\n",
      "\u001b[0;31mStopIteration\u001b[0m: ",
      "\nDuring handling of the above exception, another exception occurred:\n",
      "\u001b[0;31mPackageNotFoundError\u001b[0m                      Traceback (most recent call last)",
      "\u001b[1;32m/workspaces/covid_africa/Jupyter Notebooks/covid_africa.ipynb Cell 14\u001b[0m line \u001b[0;36m2\n\u001b[1;32m     <a href='vscode-notebook-cell://codespaces%2Bfuzzy-waffle-746wg9qj7p6hpq55/workspaces/covid_africa/Jupyter%20Notebooks/covid_africa.ipynb#X16sdnNjb2RlLXJlbW90ZQ%3D%3D?line=22'>23</a>\u001b[0m     \u001b[39mreturn\u001b[39;00m figg\n\u001b[1;32m     <a href='vscode-notebook-cell://codespaces%2Bfuzzy-waffle-746wg9qj7p6hpq55/workspaces/covid_africa/Jupyter%20Notebooks/covid_africa.ipynb#X16sdnNjb2RlLXJlbW90ZQ%3D%3D?line=24'>25</a>\u001b[0m \u001b[39mif\u001b[39;00m \u001b[39m__name__\u001b[39m\u001b[39m==\u001b[39m\u001b[39m'\u001b[39m\u001b[39m__main__\u001b[39m\u001b[39m'\u001b[39m:\n\u001b[0;32m---> <a href='vscode-notebook-cell://codespaces%2Bfuzzy-waffle-746wg9qj7p6hpq55/workspaces/covid_africa/Jupyter%20Notebooks/covid_africa.ipynb#X16sdnNjb2RlLXJlbW90ZQ%3D%3D?line=25'>26</a>\u001b[0m     app\u001b[39m.\u001b[39;49mrun_server()\n",
      "File \u001b[0;32m/workspaces/covid_africa/.venv/lib/python3.12/site-packages/dash/dash.py:2175\u001b[0m, in \u001b[0;36mrun_server\u001b[0;34m(self, *args, **kwargs)\u001b[0m\n",
      "File \u001b[0;32m/workspaces/covid_africa/.venv/lib/python3.12/site-packages/dash/dash.py:2066\u001b[0m, in \u001b[0;36mrun\u001b[0;34m(self, host, port, proxy, debug, jupyter_mode, jupyter_width, jupyter_height, jupyter_server_url, dev_tools_ui, dev_tools_props_check, dev_tools_serve_dev_bundles, dev_tools_hot_reload, dev_tools_hot_reload_interval, dev_tools_hot_reload_watch_interval, dev_tools_hot_reload_max_retry, dev_tools_silence_routes_logging, dev_tools_prune_errors, **flask_run_options)\u001b[0m\n",
      "File \u001b[0;32m/workspaces/covid_africa/.venv/lib/python3.12/site-packages/dash/_jupyter.py:329\u001b[0m, in \u001b[0;36mrun_app\u001b[0;34m(self, app, mode, width, height, host, port, server_url)\u001b[0m\n",
      "File \u001b[0;32m/workspaces/covid_africa/.venv/lib/python3.12/site-packages/werkzeug/serving.py:917\u001b[0m, in \u001b[0;36mmake_server\u001b[0;34m(host, port, app, threaded, processes, request_handler, passthrough_errors, ssl_context, fd)\u001b[0m\n",
      "File \u001b[0;32m/workspaces/covid_africa/.venv/lib/python3.12/site-packages/werkzeug/serving.py:799\u001b[0m, in \u001b[0;36m__init__\u001b[0;34m(self, host, port, app, handler, passthrough_errors, ssl_context, fd)\u001b[0m\n",
      "File \u001b[0;32m/usr/local/lib/python3.12/importlib/metadata/__init__.py:888\u001b[0m, in \u001b[0;36mversion\u001b[0;34m(distribution_name)\u001b[0m\n\u001b[1;32m    881\u001b[0m \u001b[39mdef\u001b[39;00m \u001b[39mversion\u001b[39m(distribution_name):\n\u001b[1;32m    882\u001b[0m \u001b[39m    \u001b[39m\u001b[39m\"\"\"Get the version string for the named package.\u001b[39;00m\n\u001b[1;32m    883\u001b[0m \n\u001b[1;32m    884\u001b[0m \u001b[39m    :param distribution_name: The name of the distribution package to query.\u001b[39;00m\n\u001b[1;32m    885\u001b[0m \u001b[39m    :return: The version string for the package as defined in the package's\u001b[39;00m\n\u001b[1;32m    886\u001b[0m \u001b[39m        \"Version\" metadata key.\u001b[39;00m\n\u001b[1;32m    887\u001b[0m \u001b[39m    \"\"\"\u001b[39;00m\n\u001b[0;32m--> 888\u001b[0m     \u001b[39mreturn\u001b[39;00m distribution(distribution_name)\u001b[39m.\u001b[39mversion\n",
      "File \u001b[0;32m/usr/local/lib/python3.12/importlib/metadata/__init__.py:861\u001b[0m, in \u001b[0;36mdistribution\u001b[0;34m(distribution_name)\u001b[0m\n\u001b[1;32m    855\u001b[0m \u001b[39mdef\u001b[39;00m \u001b[39mdistribution\u001b[39m(distribution_name):\n\u001b[1;32m    856\u001b[0m \u001b[39m    \u001b[39m\u001b[39m\"\"\"Get the ``Distribution`` instance for the named package.\u001b[39;00m\n\u001b[1;32m    857\u001b[0m \n\u001b[1;32m    858\u001b[0m \u001b[39m    :param distribution_name: The name of the distribution package as a string.\u001b[39;00m\n\u001b[1;32m    859\u001b[0m \u001b[39m    :return: A ``Distribution`` instance (or subclass thereof).\u001b[39;00m\n\u001b[1;32m    860\u001b[0m \u001b[39m    \"\"\"\u001b[39;00m\n\u001b[0;32m--> 861\u001b[0m     \u001b[39mreturn\u001b[39;00m Distribution\u001b[39m.\u001b[39;49mfrom_name(distribution_name)\n",
      "File \u001b[0;32m/usr/local/lib/python3.12/importlib/metadata/__init__.py:399\u001b[0m, in \u001b[0;36mDistribution.from_name\u001b[0;34m(cls, name)\u001b[0m\n\u001b[1;32m    397\u001b[0m     \u001b[39mreturn\u001b[39;00m \u001b[39mnext\u001b[39m(\u001b[39mcls\u001b[39m\u001b[39m.\u001b[39mdiscover(name\u001b[39m=\u001b[39mname))\n\u001b[1;32m    398\u001b[0m \u001b[39mexcept\u001b[39;00m \u001b[39mStopIteration\u001b[39;00m:\n\u001b[0;32m--> 399\u001b[0m     \u001b[39mraise\u001b[39;00m PackageNotFoundError(name)\n",
      "\u001b[0;31mPackageNotFoundError\u001b[0m: No package metadata was found for werkzeug"
     ]
    }
   ],
   "source": [
    "features=[{'label':'Total Cases...','value' : 'Total Cases'},\n",
    "           {'label':'Total Deaths...', 'value' : 'Total Deaths'},\n",
    "           {'label':'Total Recovered...', 'value' : 'Total Recovered'},\n",
    "           {'label' : 'Active Cases', 'value' : 'Active Cases'}\n",
    "           ]\n",
    "app = Dash(__name__)\n",
    "app.layout = html.Div([\n",
    "html.H1(\"COVID ANALYSIS IN AFRICA\",\n",
    "        style={'color': 'blue','fontSize': '40px','text-align':'center'}),\n",
    "dcc.RadioItems(options=features,value='Total Cases',id='radio',inline=True),\n",
    "dcc.Graph(figure={},id='my_graph'),\n",
    "html.Br()\n",
    "])\n",
    "\n",
    "@app.callback(\n",
    "    Output(component_id='my_graph',component_property='figure'),\n",
    "    Input(component_id='radio',component_property='value')\n",
    ")\n",
    "def draw_graph(sel):\n",
    "    figg=px.choropleth(covid, locations='Country Code', color=sel, hover_name='Country',\n",
    "                    projection='natural earth',scope='africa',\n",
    "                   width=800,height=800)\n",
    "    return figg\n",
    "\n",
    "if __name__=='__main__':\n",
    "    app.run_server()"
   ]
  },
  {
   "cell_type": "code",
   "execution_count": null,
   "id": "5895fb63-ba47-4d0e-bd78-9c11043c79ac",
   "metadata": {},
   "outputs": [],
   "source": []
  }
 ],
 "metadata": {
  "kernelspec": {
   "display_name": "Python 3 (ipykernel)",
   "language": "python",
   "name": "python3"
  },
  "language_info": {
   "codemirror_mode": {
    "name": "ipython",
    "version": 3
   },
   "file_extension": ".py",
   "mimetype": "text/x-python",
   "name": "python",
   "nbconvert_exporter": "python",
   "pygments_lexer": "ipython3",
   "version": "3.12.0"
  }
 },
 "nbformat": 4,
 "nbformat_minor": 5
}
